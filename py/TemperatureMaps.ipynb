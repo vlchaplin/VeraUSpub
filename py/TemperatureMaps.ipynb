{
 "cells": [
  {
   "cell_type": "code",
   "execution_count": 34,
   "metadata": {
    "collapsed": true
   },
   "outputs": [],
   "source": [
    "import sys\n",
    "\n",
    "from math import *;\n",
    "\n",
    "sys.path.append('C:\\\\Users\\\\vchaplin\\\\Documents\\\\HiFU\\\\code\\\\myPy')  \n",
    "sys.path.append('C:\\\\Users\\\\vchaplin\\\\Documents\\\\HiFU\\\\code\\\\AblationSims')\n",
    "sys.path.append('C:\\\\Users\\\\Vandiver\\\\Documents\\\\HiFU\\\\code\\\\BioHeatCpp\\\\PBHEswig\\\\x64')\n",
    "\n",
    "import numpy as np\n",
    "import geom\n",
    "import matplotlib.image as image\n",
    "import matplotlib.pyplot as plt\n",
    "import matplotlib as mpl\n",
    "\n",
    "import MRDataAnalysis\n",
    "from MRDataAnalysis import rescale as rescaleIm\n",
    "\n",
    "import pandas\n",
    "import nibabel\n",
    "\n",
    "def vectorstr2arr(panda_vec_string,dtype=np.float):\n",
    "    return np.array(list(map(float,panda_vec_string[1:-1].split())), dtype=dtype)"
   ]
  },
  {
   "cell_type": "code",
   "execution_count": 2,
   "metadata": {
    "collapsed": true
   },
   "outputs": [],
   "source": [
    "baselinedynamics=[1]\n",
    "unwrap=1"
   ]
  },
  {
   "cell_type": "code",
   "execution_count": 14,
   "metadata": {
    "collapsed": false
   },
   "outputs": [
    {
     "name": "stdout",
     "output_type": "stream",
     "text": [
      "Largest number of phase-corrected voxels: 1064 [dyn 18]\n"
     ]
    }
   ],
   "source": [
    "file1=\"/Users/Vandiver/Data/sonalleve/HifuCav20160810/scan29_TempSag_20160810.PAR\"\n",
    "#file1=\"/Users/Vandiver/Data/Verasonics/sonalleve_20160709/Scanner/scan21_TempCor_20160709.PAR\"\n",
    "#file1=\"/Users/Vandiver/Data/Verasonics/sonalleve_20160709/Scanner/scan10_TempSag_20160709.PAR\"\n",
    "\n",
    "(tempdata1,complIm1,im1, dyntimes1)= MRDataAnalysis.read_TempScan(file1, basedynes=baselinedynamics,\n",
    "            MP_interleaved=True, phase_unwrap=unwrap, pi_val=-0.3)\n",
    "\n",
    "spc1=np.array(im1.get_header().get_zooms())"
   ]
  },
  {
   "cell_type": "code",
   "execution_count": 326,
   "metadata": {
    "collapsed": false
   },
   "outputs": [
    {
     "data": {
      "text/plain": [
       "array([ 1.729   ,  1.729   ,  3.      ,  0.024366])"
      ]
     },
     "execution_count": 326,
     "metadata": {},
     "output_type": "execute_result"
    }
   ],
   "source": [
    "spc1"
   ]
  },
  {
   "cell_type": "code",
   "execution_count": 13,
   "metadata": {
    "collapsed": false
   },
   "outputs": [
    {
     "name": "stdout",
     "output_type": "stream",
     "text": [
      "Largest number of phase-corrected voxels: 1050 [dyn 16]\n"
     ]
    }
   ],
   "source": [
    "file2=\"/Users/Vandiver/Data/sonalleve/HifuCav20160810/scan37_TempSag_20160810.PAR\"\n",
    "#file2=\"/Users/Vandiver/Data/Verasonics/sonalleve_20160709/Scanner/scan34_TempCor_20160709.PAR\"\n",
    "\n",
    "(tempdata2,complIm2,im2, dyntimes2)= MRDataAnalysis.read_TempScan(file2, basedynes=baselinedynamics,\n",
    "            MP_interleaved=True, phase_unwrap=unwrap, pi_val=-0.3)\n",
    "\n",
    "spc2=np.array(im2.get_header().get_zooms())"
   ]
  },
  {
   "cell_type": "code",
   "execution_count": 7,
   "metadata": {
    "collapsed": true
   },
   "outputs": [],
   "source": [
    "def plotTempOverlay(tempdata, complexdata, sl=None,dyn=None, cmin=0,cmax=20, cfloor=0, graymin=0.0, graymax=1.0, ax=None,imargs={}):\n",
    "    if ax is None:\n",
    "        ax=plt.gca()\n",
    "    \n",
    "    if sl is None:\n",
    "        Tdata=tempdata\n",
    "        Cdata=complexdata\n",
    "    else:\n",
    "        Tdata=tempdata[sl]\n",
    "        Cdata=complexdata[sl]\n",
    "    if dyn is not None:\n",
    "        Tdata=Tdata[dyn]\n",
    "\n",
    "\n",
    "    magImg = rescaleIm( np.abs(Cdata) )\n",
    "    greyPix = Tdata < cfloor\n",
    "    rgbIm = image.cm.hot( rescaleIm(Tdata,vmin=cmin,vmax=cmax) )\n",
    "\n",
    "    rgbIm[greyPix,3]=0\n",
    "    \n",
    "    imGray=ax.imshow(magImg, cmap=image.cm.gray, vmin=graymin, vmax=graymax, **imargs)\n",
    "    imRGB=ax.imshow(rgbIm, **imargs)\n",
    "    \n",
    "    return (imGray,imRGB)"
   ]
  },
  {
   "cell_type": "code",
   "execution_count": 279,
   "metadata": {
    "collapsed": false
   },
   "outputs": [
    {
     "data": {
      "text/plain": [
       "(128, 128, 5, 34)"
      ]
     },
     "execution_count": 279,
     "metadata": {},
     "output_type": "execute_result"
    }
   ],
   "source": [
    "tempdata2.shape"
   ]
  },
  {
   "cell_type": "code",
   "execution_count": 19,
   "metadata": {
    "collapsed": false
   },
   "outputs": [],
   "source": [
    "mrisets = [ \n",
    "    dict(use=1, path='/Users/Vandiver/Data/Verasonics/sonalleve_20160709/',\n",
    "            pars='HifuScanParameters.csv', temp='scans_batch_DT_unwr_20160709.csv'),\n",
    "    dict(use=1, path='/Users/Vandiver/Data/sonalleve/HifuCav20160810/',\n",
    "            pars='HifuScanParams.csv', temp='scans_batch_DT_unwr_20160810.csv')]\n",
    "            \n",
    "tempfile='/Users/Vandiver/Data/Verasonics/cav_scans_batch_DT_unwr2.csv'\n",
    "\n",
    "merged_frames=[]\n",
    "for mi in range(len(mrisets)):\n",
    "    \n",
    "    if not mrisets[mi]['use']:\n",
    "        continue\n",
    "    \n",
    "    parsfile=mrisets[mi]['path']+mrisets[mi]['pars']\n",
    "    scanHifuParams = pandas.read_csv(parsfile)\n",
    "            \n",
    "    #tempfile=mrisets[mi]['path']+mrisets[mi]['temp']\n",
    "    scanAnalysisDT = pandas.read_csv(tempfile)\n",
    "    \n",
    "    \n",
    "    merged = scanAnalysisDT.merge(scanHifuParams)\n",
    "    merged_frames.append(merged)\n",
    "    \n",
    "merged = pandas.concat(merged_frames)"
   ]
  },
  {
   "cell_type": "code",
   "execution_count": 20,
   "metadata": {
    "collapsed": false
   },
   "outputs": [
    {
     "data": {
      "text/html": [
       "<div>\n",
       "<table border=\"1\" class=\"dataframe\">\n",
       "  <thead>\n",
       "    <tr style=\"text-align: right;\">\n",
       "      <th></th>\n",
       "      <th>file</th>\n",
       "      <th>roi</th>\n",
       "    </tr>\n",
       "  </thead>\n",
       "  <tbody>\n",
       "    <tr>\n",
       "      <th>15</th>\n",
       "      <td>scan29_TempSag_20160810.PAR</td>\n",
       "      <td>[76 85 77 86  1  7]</td>\n",
       "    </tr>\n",
       "    <tr>\n",
       "      <th>18</th>\n",
       "      <td>scan37_TempSag_20160810.PAR</td>\n",
       "      <td>[74 83 77 86  1  7]</td>\n",
       "    </tr>\n",
       "  </tbody>\n",
       "</table>\n",
       "</div>"
      ],
      "text/plain": [
       "                           file                  roi\n",
       "15  scan29_TempSag_20160810.PAR  [76 85 77 86  1  7]\n",
       "18  scan37_TempSag_20160810.PAR  [74 83 77 86  1  7]"
      ]
     },
     "execution_count": 20,
     "metadata": {},
     "output_type": "execute_result"
    }
   ],
   "source": [
    "merged.query(\"material=='pork'\").query(\"power==40\")[['file','roi']]"
   ]
  },
  {
   "cell_type": "code",
   "execution_count": 64,
   "metadata": {
    "collapsed": false
   },
   "outputs": [],
   "source": [
    "roi1 = vectorstr2arr(merged.query(\"file=='\"+os.path.basename(file1)+\"'\")['roi'].iloc[0],dtype=int)\n",
    "roi2 = vectorstr2arr(merged.query(\"file=='\"+os.path.basename(file2)+\"'\")['roi'].iloc[0],dtype=int)"
   ]
  },
  {
   "cell_type": "code",
   "execution_count": 62,
   "metadata": {
    "collapsed": false
   },
   "outputs": [],
   "source": [
    "roi1=np.array([76,85,75,84],dtype=int)"
   ]
  },
  {
   "cell_type": "code",
   "execution_count": 67,
   "metadata": {
    "collapsed": false
   },
   "outputs": [],
   "source": [
    "roi2=np.array([76,85,74,82],dtype=int)"
   ]
  },
  {
   "cell_type": "code",
   "execution_count": 69,
   "metadata": {
    "collapsed": false
   },
   "outputs": [
    {
     "data": {
      "image/png": "[encoded data removed]",
      "text/plain": [
       "<matplotlib.figure.Figure at 0x10d102e8>"
      ]
     },
     "metadata": {},
     "output_type": "display_data"
    }
   ],
   "source": [
    "cmin=0\n",
    "cmax=20\n",
    "fig=plt.figure(figsize=(12,6))\n",
    "sl=2\n",
    "dyn=-5\n",
    "\n",
    "\n",
    "imkeys=dict(interpolation='None')\n",
    "plotTempOverlay(tempdata2[:,:,sl,dyn],complIm2[:,:,sl,dyn],imargs=imkeys,cfloor=0.5,cmax=20)\n",
    "ax=plt.gca()\n",
    "ax.set_xlim([45,100])\n",
    "ax.set_ylim([50,100])\n",
    "\n",
    "ax.plot( roi2[[2,2,3,3,2]],roi2[[0,1,1,0,0]], 'w')\n",
    "\n",
    "x1cmw = 1.0/(0.1*spc[1])\n",
    "y1cmw = 1.0/(0.1*spc[0])\n",
    "\n",
    "xl1=ax.get_xlim()[0]+1\n",
    "yl1=ax.get_ylim()[0]+1\n",
    "ax.plot( [ xl1, xl1 + x1cmw], [ yl1, yl1 ], '-',linewidth=5.0,color=(0.2,1,1.0))\n",
    "ax.plot( [ xl1-0, xl1-0], [ yl1-0, yl1-0 + y1cmw ], '-',linewidth=5.0,color=(0.2,1,1.0))\n",
    "ax.text( xl1+1, yl1+y1cmw/2.0-1, \"1cm\", horizontalalignment='left', fontsize=20,color=(0.2,1,1.0))\n",
    "\n",
    "#ax.set_xticks([])\n",
    "#ax.set_yticks([])\n",
    "\n",
    "tickp = np.arange(0,1.01,1/6)\n",
    "tickstr = list(map(lambda s:\"%0.f\" % s,tickp*(cmax-cmin) + cmin))\n",
    "    \n",
    "#ax=fig.add_axes([0.25, 0.15, 0.5, 0.05])\n",
    "sc=mpl.cm.ScalarMappable(cmap=image.cm.hot)\n",
    "sc.set_array(tickp)\n",
    "cb=plt.colorbar(mappable=sc,orientation='vertical',ax=ax)\n",
    "cb.set_cmap(image.cm.hot)\n",
    "cb.set_ticks(tickp)\n",
    "cb.set_ticklabels(tickstr)  \n",
    "cb.set_label('$\\Delta $T ($^o$C)',fontsize=16)\n",
    "cb.ax.tick_params(labelsize=16)"
   ]
  },
  {
   "cell_type": "code",
   "execution_count": 53,
   "metadata": {
    "collapsed": false
   },
   "outputs": [
    {
     "data": {
      "image/png": "[encoded data removed]",
      "text/plain": [
       "<matplotlib.figure.Figure at 0x110fa0b8>"
      ]
     },
     "metadata": {},
     "output_type": "display_data"
    }
   ],
   "source": [
    "sl=2\n",
    "dyn=-1\n",
    "cfloor=-0.1\n",
    "cmin=0\n",
    "cmax=20\n",
    "fig=plt.figure(figsize=(12,6))\n",
    "\n",
    "imkeys=dict(interpolation='None')\n",
    "ax1=fig.add_subplot(121)\n",
    "ax2=fig.add_subplot(122)\n",
    "(imGray1,imRGB1)=plotTempOverlay(tempdata1[:,:,sl,dyn],complIm1[:,:,sl,0],cmin=cmin,cmax=cmax,cfloor=cfloor,ax=ax1,imargs=imkeys )\n",
    "(imGray2,imRGB2)=plotTempOverlay(tempdata2[:,:,sl,dyn],complIm2[:,:,sl,0],cmin=cmin,cmax=cmax,cfloor=cfloor,ax=ax2,imargs=imkeys )\n",
    "\n",
    "for axi in range(2):\n",
    "    ax=(ax1,ax2)[axi]\n",
    "    spc=(spc1,spc2)[axi]\n",
    "    \n",
    "    xlim=[50,110]\n",
    "    ylim=[95,50]\n",
    "    ax.set_xlim(xlim)\n",
    "    ax.set_ylim(ylim)\n",
    "    \n",
    "    \n",
    "    x1cmw = 1.0/(0.1*spc[1])\n",
    "    y1cmw = 1.0/(0.1*spc[0])\n",
    "    \n",
    "    xl1=xlim[0]+5\n",
    "    yl1=ylim[0]-5\n",
    "    ax.plot( [ xl1, xl1 + x1cmw], [ yl1, yl1 ], linewidth=5.0,color=(0.2,1,1.0))\n",
    "    ax.plot( [ xl1-1, xl1-1], [ yl1-2, yl1-2 - y1cmw ], linewidth=5.0,color=(0.2,1,1.0))\n",
    "    ax.text( xl1+1, yl1-y1cmw/2.0, \"1cm\", horizontalalignment='left', fontsize=20,color=(0.2,1,1.0))\n",
    "    \n",
    "    ax.set_xticks([])\n",
    "    ax.set_yticks([])\n",
    "#plt.plot([0.5,0.5], [0.5, 0.9], transform=ax.transAxes)\n",
    "#ax.text(0.9,0.9,'%dW'%p, transform=ax.transAxes, horizontalalignment='right', fontsize=18,color='k')\n",
    "\n",
    "tickp = np.arange(0,1.01,1/6)\n",
    "tickstr = list(map(lambda s:\"%0.f\" % s,tickp*(cmax-cmin) + cmin))\n",
    "\n",
    "ax1.plot( roi1[[0,0,1,1]], roi1[[2,3,3,2]], 'w')\n",
    "ax2.plot( roi2[[0,0,1,1]], roi2[[2,3,3,2]], 'w')\n",
    "    \n",
    "ax=fig.add_axes([0.25, 0.15, 0.5, 0.05])\n",
    "sc=mpl.cm.ScalarMappable(cmap=image.cm.hot)\n",
    "sc.set_array(tickp)\n",
    "cb=plt.colorbar(mappable=sc,orientation='horizontal',cax=ax)\n",
    "cb.set_cmap(image.cm.hot)\n",
    "cb.set_ticks(tickp)\n",
    "cb.set_ticklabels(tickstr)  \n",
    "cb.set_label('$\\Delta $T ($^o$C)',fontsize=16)\n",
    "cb.ax.tick_params(labelsize=16)"
   ]
  },
  {
   "cell_type": "code",
   "execution_count": 272,
   "metadata": {
    "collapsed": false
   },
   "outputs": [],
   "source": [
    "fig.savefig(\"/Users/Vandiver/OneDrive/Documents/Multi-foc Paper/TempMap_Pork_40W.png\")\n",
    "plt.close(fig)"
   ]
  },
  {
   "cell_type": "code",
   "execution_count": 132,
   "metadata": {
    "collapsed": false
   },
   "outputs": [
    {
     "data": {
      "text/plain": [
       "([60, 66.613756613756607], [105, 105])"
      ]
     },
     "execution_count": 132,
     "metadata": {},
     "output_type": "execute_result"
    }
   ],
   "source": [
    "[ xlim[0]+10, xlim[0]+10 + x1cmw], [ ylim[0]+10, ylim[0]+10]"
   ]
  },
  {
   "cell_type": "code",
   "execution_count": null,
   "metadata": {
    "collapsed": true
   },
   "outputs": [],
   "source": []
  }
 ],
 "metadata": {
  "kernelspec": {
   "display_name": "Python 3",
   "language": "python",
   "name": "python3"
  },
  "language_info": {
   "codemirror_mode": {
    "name": "ipython",
    "version": 3
   },
   "file_extension": ".py",
   "mimetype": "text/x-python",
   "name": "python",
   "nbconvert_exporter": "python",
   "pygments_lexer": "ipython3",
   "version": "3.4.4"
  }
 },
 "nbformat": 4,
 "nbformat_minor": 0
}
